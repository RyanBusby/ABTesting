{
 "cells": [
  {
   "cell_type": "markdown",
   "metadata": {},
   "source": [
    "# A / B Testing of a new Landing Page"
   ]
  },
  {
   "cell_type": "markdown",
   "metadata": {},
   "source": [
    "### The data are results of running an experimental page for one day, recording if a user opts for a new service."
   ]
  },
  {
   "cell_type": "markdown",
   "metadata": {},
   "source": [
    "#### Read Data"
   ]
  },
  {
   "cell_type": "code",
   "execution_count": 1,
   "metadata": {},
   "outputs": [],
   "source": [
    "import pandas as pd"
   ]
  },
  {
   "cell_type": "code",
   "execution_count": 2,
   "metadata": {},
   "outputs": [],
   "source": [
    "data = pd.read_csv('data/experiment.csv')"
   ]
  },
  {
   "cell_type": "code",
   "execution_count": 4,
   "metadata": {},
   "outputs": [
    {
     "data": {
      "text/html": [
       "<div>\n",
       "<style scoped>\n",
       "    .dataframe tbody tr th:only-of-type {\n",
       "        vertical-align: middle;\n",
       "    }\n",
       "\n",
       "    .dataframe tbody tr th {\n",
       "        vertical-align: top;\n",
       "    }\n",
       "\n",
       "    .dataframe thead th {\n",
       "        text-align: right;\n",
       "    }\n",
       "</style>\n",
       "<table border=\"1\" class=\"dataframe\">\n",
       "  <thead>\n",
       "    <tr style=\"text-align: right;\">\n",
       "      <th></th>\n",
       "      <th>user_id</th>\n",
       "      <th>ts</th>\n",
       "      <th>ab</th>\n",
       "      <th>landing_page</th>\n",
       "      <th>converted</th>\n",
       "    </tr>\n",
       "  </thead>\n",
       "  <tbody>\n",
       "    <tr>\n",
       "      <th>0</th>\n",
       "      <td>4040615247</td>\n",
       "      <td>1.356998e+09</td>\n",
       "      <td>treatment</td>\n",
       "      <td>new_page</td>\n",
       "      <td>0</td>\n",
       "    </tr>\n",
       "    <tr>\n",
       "      <th>1</th>\n",
       "      <td>4365389205</td>\n",
       "      <td>1.356998e+09</td>\n",
       "      <td>treatment</td>\n",
       "      <td>new_page</td>\n",
       "      <td>0</td>\n",
       "    </tr>\n",
       "    <tr>\n",
       "      <th>2</th>\n",
       "      <td>4256174578</td>\n",
       "      <td>1.356998e+09</td>\n",
       "      <td>treatment</td>\n",
       "      <td>new_page</td>\n",
       "      <td>0</td>\n",
       "    </tr>\n",
       "    <tr>\n",
       "      <th>3</th>\n",
       "      <td>8122359922</td>\n",
       "      <td>1.356998e+09</td>\n",
       "      <td>control</td>\n",
       "      <td>old_page</td>\n",
       "      <td>0</td>\n",
       "    </tr>\n",
       "    <tr>\n",
       "      <th>4</th>\n",
       "      <td>6077269891</td>\n",
       "      <td>1.356998e+09</td>\n",
       "      <td>control</td>\n",
       "      <td>old_page</td>\n",
       "      <td>0</td>\n",
       "    </tr>\n",
       "    <tr>\n",
       "      <th>5</th>\n",
       "      <td>4275599187</td>\n",
       "      <td>1.356998e+09</td>\n",
       "      <td>treatment</td>\n",
       "      <td>new_page</td>\n",
       "      <td>0</td>\n",
       "    </tr>\n",
       "    <tr>\n",
       "      <th>6</th>\n",
       "      <td>1659259079</td>\n",
       "      <td>1.356998e+09</td>\n",
       "      <td>control</td>\n",
       "      <td>old_page</td>\n",
       "      <td>0</td>\n",
       "    </tr>\n",
       "    <tr>\n",
       "      <th>7</th>\n",
       "      <td>1545725891</td>\n",
       "      <td>1.356998e+09</td>\n",
       "      <td>control</td>\n",
       "      <td>old_page</td>\n",
       "      <td>0</td>\n",
       "    </tr>\n",
       "    <tr>\n",
       "      <th>8</th>\n",
       "      <td>7347566546</td>\n",
       "      <td>1.356998e+09</td>\n",
       "      <td>treatment</td>\n",
       "      <td>new_page</td>\n",
       "      <td>0</td>\n",
       "    </tr>\n",
       "    <tr>\n",
       "      <th>9</th>\n",
       "      <td>8944268730</td>\n",
       "      <td>1.356998e+09</td>\n",
       "      <td>control</td>\n",
       "      <td>old_page</td>\n",
       "      <td>0</td>\n",
       "    </tr>\n",
       "    <tr>\n",
       "      <th>10</th>\n",
       "      <td>4495995340</td>\n",
       "      <td>1.356998e+09</td>\n",
       "      <td>control</td>\n",
       "      <td>old_page</td>\n",
       "      <td>0</td>\n",
       "    </tr>\n",
       "    <tr>\n",
       "      <th>11</th>\n",
       "      <td>7719218442</td>\n",
       "      <td>1.356998e+09</td>\n",
       "      <td>treatment</td>\n",
       "      <td>new_page</td>\n",
       "      <td>1</td>\n",
       "    </tr>\n",
       "    <tr>\n",
       "      <th>12</th>\n",
       "      <td>5254377967</td>\n",
       "      <td>1.356998e+09</td>\n",
       "      <td>treatment</td>\n",
       "      <td>new_page</td>\n",
       "      <td>0</td>\n",
       "    </tr>\n",
       "    <tr>\n",
       "      <th>13</th>\n",
       "      <td>6000818242</td>\n",
       "      <td>1.356998e+09</td>\n",
       "      <td>control</td>\n",
       "      <td>old_page</td>\n",
       "      <td>0</td>\n",
       "    </tr>\n",
       "    <tr>\n",
       "      <th>14</th>\n",
       "      <td>1379061083</td>\n",
       "      <td>1.356998e+09</td>\n",
       "      <td>treatment</td>\n",
       "      <td>new_page</td>\n",
       "      <td>0</td>\n",
       "    </tr>\n",
       "  </tbody>\n",
       "</table>\n",
       "</div>"
      ],
      "text/plain": [
       "       user_id            ts         ab landing_page  converted\n",
       "0   4040615247  1.356998e+09  treatment     new_page          0\n",
       "1   4365389205  1.356998e+09  treatment     new_page          0\n",
       "2   4256174578  1.356998e+09  treatment     new_page          0\n",
       "3   8122359922  1.356998e+09    control     old_page          0\n",
       "4   6077269891  1.356998e+09    control     old_page          0\n",
       "5   4275599187  1.356998e+09  treatment     new_page          0\n",
       "6   1659259079  1.356998e+09    control     old_page          0\n",
       "7   1545725891  1.356998e+09    control     old_page          0\n",
       "8   7347566546  1.356998e+09  treatment     new_page          0\n",
       "9   8944268730  1.356998e+09    control     old_page          0\n",
       "10  4495995340  1.356998e+09    control     old_page          0\n",
       "11  7719218442  1.356998e+09  treatment     new_page          1\n",
       "12  5254377967  1.356998e+09  treatment     new_page          0\n",
       "13  6000818242  1.356998e+09    control     old_page          0\n",
       "14  1379061083  1.356998e+09  treatment     new_page          0"
      ]
     },
     "execution_count": 4,
     "metadata": {},
     "output_type": "execute_result"
    }
   ],
   "source": [
    "data.head(15)"
   ]
  },
  {
   "cell_type": "code",
   "execution_count": 3,
   "metadata": {},
   "outputs": [
    {
     "name": "stdout",
     "output_type": "stream",
     "text": [
      "ab column counts:\n",
      "treatment    100333\n",
      "control       90815\n",
      "Name: ab, dtype: int64\n",
      "landing_page column counts:\n",
      "new_page    95574\n",
      "old_page    95574\n",
      "Name: landing_page, dtype: int64\n"
     ]
    }
   ],
   "source": [
    "print('ab column counts:')\n",
    "print(data['ab'].value_counts())\n",
    "print('landing_page column counts:')\n",
    "print(data['landing_page'].value_counts())"
   ]
  },
  {
   "cell_type": "markdown",
   "metadata": {},
   "source": [
    "### Clean-Up Data"
   ]
  },
  {
   "cell_type": "code",
   "execution_count": 6,
   "metadata": {},
   "outputs": [],
   "source": [
    "# some rows have mismatched landing page / control-treatment labels\n",
    "def find_mismatch(ab_cell, landing_page_cell):\n",
    "    if ab_cell == 'treatment' and landing_page_cell == 'new_page':\n",
    "        return 0\n",
    "    elif ab_cell == 'control' and landing_page_cell == 'old_page':\n",
    "        return 0\n",
    "    else:\n",
    "        return 1\n",
    "    \n",
    "f = lambda row: find_mismatch(row['ab'], row['landing_page'])\n",
    "data['mismatch'] = data.apply(f, axis=1)"
   ]
  },
  {
   "cell_type": "code",
   "execution_count": 9,
   "metadata": {},
   "outputs": [
    {
     "data": {
      "text/plain": [
       "(4759, 6)"
      ]
     },
     "execution_count": 9,
     "metadata": {},
     "output_type": "execute_result"
    }
   ],
   "source": [
    "data[data['mismatch']==1].shape"
   ]
  },
  {
   "cell_type": "code",
   "execution_count": 10,
   "metadata": {},
   "outputs": [],
   "source": [
    "# drop 4759 rows from data\n",
    "data = data[data['mismatch']==0]"
   ]
  },
  {
   "cell_type": "markdown",
   "metadata": {},
   "source": [
    "### Calculate p-value"
   ]
  },
  {
   "cell_type": "code",
   "execution_count": 34,
   "metadata": {},
   "outputs": [],
   "source": [
    "old = data[data['landing_page']=='old_page']\n",
    "new = data[data['landing_page']=='new_page']\n",
    "old_n = old.shape[0] * 1.\n",
    "new_n = new.shape[0] * 1.\n",
    "old_convert = old[old['converted']==1].shape[0]\n",
    "new_convert = new[new['converted']==1].shape[0]\n",
    "old_conversion = old_convert/old_n\n",
    "new_conversion = new_convert/new_n"
   ]
  },
  {
   "cell_type": "code",
   "execution_count": 39,
   "metadata": {},
   "outputs": [
    {
     "data": {
      "text/plain": [
       "3.979225745387449e-05"
      ]
     },
     "execution_count": 39,
     "metadata": {},
     "output_type": "execute_result"
    }
   ],
   "source": [
    "new_conversion - old_conversion"
   ]
  },
  {
   "cell_type": "markdown",
   "metadata": {},
   "source": [
    "**A one tailed z-test is used because we are only interested in lifting the conversion rate. If the lift is larger than 0.1% with statistical significance the new page should be adopted.**"
   ]
  },
  {
   "cell_type": "markdown",
   "metadata": {},
   "source": [
    "z = (x−μ) / (σ/√n)\n",
    "z-statistic = (sample mean - population mean) / (sample standard deviation / square root of population size)"
   ]
  },
  {
   "cell_type": "code",
   "execution_count": 36,
   "metadata": {},
   "outputs": [],
   "source": [
    "from __future__ import division\n",
    "from numpy import sqrt\n",
    "import scipy.stats as scs\n",
    "\n",
    "def z_test(ctr_old, ctr_new, old_n, new_n,\n",
    "           effect_size=0., two_tailed=True, alpha=.05):\n",
    "    '''\n",
    "    Perform z-test to compare two proprtions (e.g., click through rates (ctr)).\n",
    "\n",
    "        Note: if you set two_tailed=False, z_test assumes H_A is that the effect is\n",
    "        non-negative, so the p-value is computed based on the weight in the upper tail.\n",
    "\n",
    "        Arguments:\n",
    "            ctr_old (float):    baseline proportion (ctr)\n",
    "            ctr_new (float):    new proportion\n",
    "            old_n (int):     number of observations in baseline sample\n",
    "            new_n (int):     number of observations in new sample\n",
    "            effect_size (float):    size of effect\n",
    "            two_tailed (bool):  True to use two-tailed test; False to use one-sided test\n",
    "                                where alternative hypothesis if that effect_size is non-negative\n",
    "            alpha (float):      significance level\n",
    "\n",
    "        Returns:\n",
    "            z-score, p-value, and whether to reject the null hypothesis\n",
    "    '''\n",
    "    \n",
    "    conversion = (ctr_old * old_n + ctr_new * new_n) / \\\n",
    "                 (old_n + new_n)\n",
    "\n",
    "    se = sqrt(conversion * (1 - conversion) * (1 / old_n + 1 / new_n)) # standard error\n",
    "\n",
    "    z_score = (ctr_new - ctr_old - effect_size) / se\n",
    "\n",
    "    if two_tailed:\n",
    "        p_val = (1 - scs.norm.cdf(abs(z_score))) * 2\n",
    "    else:\n",
    "        # Because H_A: estimated effect_size > effect_size\n",
    "        p_val = 1 - scs.norm.cdf(z_score)\n",
    "    reject_null = p_val < alpha\n",
    "    \n",
    "    return z_score, p_val, reject_null"
   ]
  },
  {
   "cell_type": "code",
   "execution_count": 37,
   "metadata": {},
   "outputs": [],
   "source": [
    "z_score, p_val, reject_null = z_test(old_conversion, new_conversion, old_n, new_n, effect_size=.001, two_tailed=False, alpha=.05)"
   ]
  },
  {
   "cell_type": "code",
   "execution_count": 38,
   "metadata": {},
   "outputs": [
    {
     "name": "stdout",
     "output_type": "stream",
     "text": [
      "z-score: -0.6917276180865002, p-value: 0.7554458002288147, reject null: False\n"
     ]
    }
   ],
   "source": [
    "print(f'z-score: {z_score}, p-value: {p_val}, reject null: {reject_null}')"
   ]
  },
  {
   "cell_type": "markdown",
   "metadata": {},
   "source": [
    "**Based on the p-value alone, the lift is not signigicantly larger than 0.1%. The null is not rejected and the new page is not adopted.**\n",
    "**This is the result from running the experiment on one day, a weekday. This experiment should run for longer than a day to determint if the new page is effective.**"
   ]
  },
  {
   "cell_type": "markdown",
   "metadata": {},
   "source": [
    "**When do you stop the experiement? If the p-value is consistent upon the collection of more data over and extended period of time, then we are more confident that the conclusion would stay the same even if the experiment had run on longer.**"
   ]
  },
  {
   "cell_type": "code",
   "execution_count": 80,
   "metadata": {},
   "outputs": [],
   "source": [
    "def run_test(data):\n",
    "    old = data[data['landing_page']=='old_page']\n",
    "    new = data[data['landing_page']=='new_page']\n",
    "    old_n = old.shape[0] * 1.\n",
    "    new_n = new.shape[0] * 1.\n",
    "    old_convert = old[old['converted']==1].shape[0]\n",
    "    new_convert = new[new['converted']==1].shape[0]\n",
    "    old_conversion = old_convert/old_n\n",
    "    new_conversion = new_convert/new_n\n",
    "\n",
    "    z_score, p_val, reject_null = z_test(old_conversion, new_conversion,\n",
    "                                         old_n, new_n, effect_size=0.001, two_tailed=True, alpha=.05)\n",
    "    return p_val, old_conversion, new_conversion"
   ]
  },
  {
   "cell_type": "code",
   "execution_count": 81,
   "metadata": {},
   "outputs": [],
   "source": [
    "# create a visual aid to see how p-value changes over time\n",
    "\n",
    "import matplotlib.pyplot as plt\n",
    "plt.style.use('ggplot')\n",
    "%matplotlib inline\n",
    "def plot_pval(data):\n",
    "    pval_lst = []\n",
    "    datetime = data.ts.astype('datetime64[s]')\n",
    "    hour = datetime.apply(lambda x: x.hour)\n",
    "    data['hour'] = hour\n",
    "\n",
    "    # Run the test as the data accumulates hourly\n",
    "    for hr in hour.unique():\n",
    "        hr_data = data[data['hour'] <= hr]\n",
    "\n",
    "        p_val, _, _ = run_test(hr_data)\n",
    "        \n",
    "        pval_lst.append(p_val)\n",
    "    # Make the plot\n",
    "    plt.plot(pval_lst, marker='o')\n",
    "    plt.ylabel('p-value', fontweight='bold', fontsize=14)\n",
    "    plt.xlabel('Hour in the day', fontweight='bold', fontsize=14)\n",
    "    plt.axhline(0.05, linestyle='--', color='r')"
   ]
  },
  {
   "cell_type": "code",
   "execution_count": 82,
   "metadata": {},
   "outputs": [
    {
     "data": {
      "image/png": "[encoded data removed]",
      "text/plain": [
       "<Figure size 432x288 with 1 Axes>"
      ]
     },
     "metadata": {
      "needs_background": "light"
     },
     "output_type": "display_data"
    }
   ],
   "source": [
    "plot_pval(data)"
   ]
  },
  {
   "cell_type": "markdown",
   "metadata": {},
   "source": [
    "**Since the p-value doesn't remain consistent throughout this experiemnt, it would be best to continue to run it.**"
   ]
  },
  {
   "cell_type": "markdown",
   "metadata": {},
   "source": [
    "### Segment data further for additional insights"
   ]
  },
  {
   "cell_type": "code",
   "execution_count": 83,
   "metadata": {},
   "outputs": [],
   "source": [
    "# there is data providing country information about the clicks\n",
    "def read_country_merge(fname):\n",
    "    country = pd.read_csv(fname)\n",
    "    merged_df = pd.merge(data, country, left_on='user_id', right_on='user_id', how='left')\n",
    "    merged_df['country'] = merged_df['country'].map(str)\n",
    "    return merged_df\n",
    "merged_df = read_country_merge('data/country.csv')"
   ]
  },
  {
   "cell_type": "code",
   "execution_count": 84,
   "metadata": {},
   "outputs": [],
   "source": [
    "def run_country_test(df):\n",
    "    results = {}\n",
    "    for country in df['country'].unique():\n",
    "        country_df = df[df['country']==country]\n",
    "        p_val, old_conversion, new_conversion = run_test(country_df)\n",
    "        results[country] = [p_val, new_conversion-old_conversion]\n",
    "    for country, lst in results.items():\n",
    "        p_val, conversion_diff = lst\n",
    "        print(f'{country} | conversion increase: {conversion_diff} | p-value: {p_val}')"
   ]
  },
  {
   "cell_type": "code",
   "execution_count": 85,
   "metadata": {},
   "outputs": [
    {
     "data": {
      "text/html": [
       "<div>\n",
       "<style scoped>\n",
       "    .dataframe tbody tr th:only-of-type {\n",
       "        vertical-align: middle;\n",
       "    }\n",
       "\n",
       "    .dataframe tbody tr th {\n",
       "        vertical-align: top;\n",
       "    }\n",
       "\n",
       "    .dataframe thead th {\n",
       "        text-align: right;\n",
       "    }\n",
       "</style>\n",
       "<table border=\"1\" class=\"dataframe\">\n",
       "  <thead>\n",
       "    <tr style=\"text-align: right;\">\n",
       "      <th></th>\n",
       "      <th>user_id</th>\n",
       "      <th>ts</th>\n",
       "      <th>ab</th>\n",
       "      <th>landing_page</th>\n",
       "      <th>converted</th>\n",
       "      <th>mismatch</th>\n",
       "      <th>hour</th>\n",
       "      <th>country</th>\n",
       "    </tr>\n",
       "  </thead>\n",
       "  <tbody>\n",
       "    <tr>\n",
       "      <th>0</th>\n",
       "      <td>4040615247</td>\n",
       "      <td>1.356998e+09</td>\n",
       "      <td>treatment</td>\n",
       "      <td>new_page</td>\n",
       "      <td>0</td>\n",
       "      <td>0</td>\n",
       "      <td>0</td>\n",
       "      <td>US</td>\n",
       "    </tr>\n",
       "    <tr>\n",
       "      <th>1</th>\n",
       "      <td>4365389205</td>\n",
       "      <td>1.356998e+09</td>\n",
       "      <td>treatment</td>\n",
       "      <td>new_page</td>\n",
       "      <td>0</td>\n",
       "      <td>0</td>\n",
       "      <td>0</td>\n",
       "      <td>US</td>\n",
       "    </tr>\n",
       "    <tr>\n",
       "      <th>2</th>\n",
       "      <td>4256174578</td>\n",
       "      <td>1.356998e+09</td>\n",
       "      <td>treatment</td>\n",
       "      <td>new_page</td>\n",
       "      <td>0</td>\n",
       "      <td>0</td>\n",
       "      <td>0</td>\n",
       "      <td>US</td>\n",
       "    </tr>\n",
       "    <tr>\n",
       "      <th>3</th>\n",
       "      <td>8122359922</td>\n",
       "      <td>1.356998e+09</td>\n",
       "      <td>control</td>\n",
       "      <td>old_page</td>\n",
       "      <td>0</td>\n",
       "      <td>0</td>\n",
       "      <td>0</td>\n",
       "      <td>US</td>\n",
       "    </tr>\n",
       "    <tr>\n",
       "      <th>4</th>\n",
       "      <td>6077269891</td>\n",
       "      <td>1.356998e+09</td>\n",
       "      <td>control</td>\n",
       "      <td>old_page</td>\n",
       "      <td>0</td>\n",
       "      <td>0</td>\n",
       "      <td>0</td>\n",
       "      <td>UK</td>\n",
       "    </tr>\n",
       "  </tbody>\n",
       "</table>\n",
       "</div>"
      ],
      "text/plain": [
       "      user_id            ts         ab landing_page  converted  mismatch  \\\n",
       "0  4040615247  1.356998e+09  treatment     new_page          0         0   \n",
       "1  4365389205  1.356998e+09  treatment     new_page          0         0   \n",
       "2  4256174578  1.356998e+09  treatment     new_page          0         0   \n",
       "3  8122359922  1.356998e+09    control     old_page          0         0   \n",
       "4  6077269891  1.356998e+09    control     old_page          0         0   \n",
       "\n",
       "   hour country  \n",
       "0     0      US  \n",
       "1     0      US  \n",
       "2     0      US  \n",
       "3     0      US  \n",
       "4     0      UK  "
      ]
     },
     "execution_count": 85,
     "metadata": {},
     "output_type": "execute_result"
    }
   ],
   "source": [
    "merged_df.head()"
   ]
  },
  {
   "cell_type": "code",
   "execution_count": 86,
   "metadata": {},
   "outputs": [
    {
     "data": {
      "text/plain": [
       "array(['US', 'UK', 'nan', 'CA'], dtype=object)"
      ]
     },
     "execution_count": 86,
     "metadata": {},
     "output_type": "execute_result"
    }
   ],
   "source": [
    "merged_df.country.unique()"
   ]
  },
  {
   "cell_type": "code",
   "execution_count": 87,
   "metadata": {},
   "outputs": [
    {
     "name": "stdout",
     "output_type": "stream",
     "text": [
      "US | conversion increase: -0.0016226414750744045 | p-value: 0.1570480657096871\n",
      "UK | conversion increase: -0.00789128361124257 | p-value: 0.0006993861701642956\n",
      "nan | conversion increase: -0.008251793120832282 | p-value: 0.20825461557336933\n",
      "CA | conversion increase: -0.008015860415896317 | p-value: 0.007591236998119033\n"
     ]
    }
   ],
   "source": [
    "run_country_test(merged_df)"
   ]
  },
  {
   "cell_type": "markdown",
   "metadata": {},
   "source": [
    "**The conversion decreases in every country when adopting the new page. In the United Kingdom the decrease is significant, `0.0006<0.0125`. As well as in Canada, `0.0075 < 0.0125`. The alpha value of 0.05 is divided by 4 since 4 tests are ran.\n",
    "The new page shoud NOT be adopted.**"
   ]
  },
  {
   "cell_type": "code",
   "execution_count": null,
   "metadata": {},
   "outputs": [],
   "source": []
  }
 ],
 "metadata": {
  "kernelspec": {
   "display_name": "Python 3",
   "language": "python",
   "name": "python3"
  },
  "language_info": {
   "codemirror_mode": {
    "name": "ipython",
    "version": 3
   },
   "file_extension": ".py",
   "mimetype": "text/x-python",
   "name": "python",
   "nbconvert_exporter": "python",
   "pygments_lexer": "ipython3",
   "version": "3.7.4"
  }
 },
 "nbformat": 4,
 "nbformat_minor": 4
}
